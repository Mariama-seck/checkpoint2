{
 "cells": [
  {
   "cell_type": "code",
   "execution_count": 1,
   "id": "b65e903c",
   "metadata": {},
   "outputs": [
    {
     "name": "stdout",
     "output_type": "stream",
     "text": [
      "[2002, 2009, 2016, 2023, 2037, 2044, 2051, 2058, 2072, 2079, 2086, 2093, 2107, 2114, 2121, 2128, 2142, 2149, 2156, 2163, 2177, 2184, 2191, 2198, 2212, 2219, 2226, 2233, 2247, 2254, 2261, 2268, 2282, 2289, 2296, 2303, 2317, 2324, 2331, 2338, 2352, 2359, 2366, 2373, 2387, 2394, 2401, 2408, 2422, 2429, 2436, 2443, 2457, 2464, 2471, 2478, 2492, 2499, 2506, 2513, 2527, 2534, 2541, 2548, 2562, 2569, 2576, 2583, 2597, 2604, 2611, 2618, 2632, 2639, 2646, 2653, 2667, 2674, 2681, 2688, 2702, 2709, 2716, 2723, 2737, 2744, 2751, 2758, 2772, 2779, 2786, 2793, 2807, 2814, 2821, 2828, 2842, 2849, 2856, 2863, 2877, 2884, 2891, 2898, 2912, 2919, 2926, 2933, 2947, 2954, 2961, 2968, 2982, 2989, 2996, 3003, 3017, 3024, 3031, 3038, 3052, 3059, 3066, 3073, 3087, 3094, 3101, 3108, 3122, 3129, 3136, 3143, 3157, 3164, 3171, 3178, 3192, 3199]\n"
     ]
    }
   ],
   "source": [
    "myList = []\n",
    "for i in range(2000,3200):\n",
    "    if(i%7==0 and i%5!=0):\n",
    "        myList.append(i)\n",
    "print(myList) "
   ]
  },
  {
   "cell_type": "code",
   "execution_count": 2,
   "id": "ac896416",
   "metadata": {},
   "outputs": [
    {
     "name": "stdout",
     "output_type": "stream",
     "text": [
      "120\n"
     ]
    }
   ],
   "source": [
    "def factorielle(n):\n",
    "   if n == 0:\n",
    "      return 1\n",
    "   else:\n",
    "      F = 1\n",
    "      for i in range(1,n+1):\n",
    "         F = F * i\n",
    "\n",
    "      return F\n",
    "print(factorielle(5))"
   ]
  },
  {
   "cell_type": "code",
   "execution_count": 3,
   "id": "4e2cc1aa",
   "metadata": {
    "scrolled": true
   },
   "outputs": [
    {
     "name": "stdout",
     "output_type": "stream",
     "text": [
      "la factorielle est 120\n"
     ]
    }
   ],
   "source": [
    "from math import factorial\n",
    "\n",
    "print (\"la factorielle est\", factorial(5))"
   ]
  },
  {
   "cell_type": "code",
   "execution_count": 1,
   "id": "5d414437",
   "metadata": {},
   "outputs": [
    {
     "name": "stdout",
     "output_type": "stream",
     "text": [
      "entrer un nombre: 8\n",
      "{1: 1, 2: 4, 3: 9, 4: 16, 5: 25, 6: 36, 7: 49, 8: 64}\n"
     ]
    }
   ],
   "source": [
    "num = int(input(\"entrer un nombre: \"))\n",
    "dictio = {}\n",
    "for i in range(1, num+1):\n",
    "    dictio[i]=i*i\n",
    "print(dictio)    "
   ]
  },
  {
   "cell_type": "code",
   "execution_count": 2,
   "id": "ab2b64e1",
   "metadata": {},
   "outputs": [
    {
     "name": "stdout",
     "output_type": "stream",
     "text": [
      "ktten\n",
      "itten\n",
      "kiten\n"
     ]
    }
   ],
   "source": [
    "def missing_char(string, n):\n",
    "    first = string[:n]\n",
    "    back = string[n+1:]\n",
    "    return first + back\n",
    "print(missing_char('kitten',1))\n",
    "print(missing_char('kitten',0))\n",
    "print(missing_char('kitten',3))"
   ]
  },
  {
   "cell_type": "code",
   "execution_count": 3,
   "id": "8b79fca7",
   "metadata": {},
   "outputs": [
    {
     "name": "stdout",
     "output_type": "stream",
     "text": [
      "Element du tableau d'origine:  [[0 1]\n",
      " [2 3]\n",
      " [4 5]]\n",
      "Tableau à liste:  [[0, 1], [2, 3], [4, 5]]\n"
     ]
    }
   ],
   "source": [
    "import numpy as np\n",
    "new_array = np.arange(6).reshape(3,2)\n",
    "print(\"Element du tableau d'origine: \",new_array)\n",
    "arrayTolist = new_array.tolist()\n",
    "print(\"Tableau à liste: \",arrayTolist)"
   ]
  },
  {
   "cell_type": "code",
   "execution_count": 4,
   "id": "739f669b",
   "metadata": {},
   "outputs": [
    {
     "name": "stdout",
     "output_type": "stream",
     "text": [
      "Tableau d'origine1:  [0 1 2]\n",
      "Tableau d'origine2:  [2 1 0]\n",
      "Matrice de covariance des dits tableaux: [[ 1. -1.]\n",
      " [-1.  1.]]\n"
     ]
    }
   ],
   "source": [
    "import numpy as np\n",
    "tab1 = np.array([0,1,2])\n",
    "tab2 = np.array([2,1,0])\n",
    "print(\"Tableau d'origine1: \",tab1)\n",
    "print(\"Tableau d'origine2: \",tab2)\n",
    "covariance = np.cov(tab1,tab2)\n",
    "print(\"Matrice de covariance des dits tableaux:\",covariance)"
   ]
  },
  {
   "cell_type": "code",
   "execution_count": 5,
   "id": "ce29c21c",
   "metadata": {},
   "outputs": [
    {
     "name": "stdout",
     "output_type": "stream",
     "text": [
      "entrer la valeur de D: 100,150,180\n",
      "[18, 22, 24]\n"
     ]
    }
   ],
   "source": [
    "import math\n",
    "C = 50\n",
    "H = 30\n",
    "value = input(\"entrer la valeur de D: \")\n",
    "D = value.split(\",\")\n",
    "resultat =[]\n",
    "for i in D :\n",
    "    Q = round(math.sqrt(2*C*int(i)/H))\n",
    "    resultat.append(Q)\n",
    "print(resultat)  "
   ]
  },
  {
   "cell_type": "code",
   "execution_count": null,
   "id": "a579558b",
   "metadata": {},
   "outputs": [],
   "source": []
  }
 ],
 "metadata": {
  "kernelspec": {
   "display_name": "Python 3 (ipykernel)",
   "language": "python",
   "name": "python3"
  },
  "language_info": {
   "codemirror_mode": {
    "name": "ipython",
    "version": 3
   },
   "file_extension": ".py",
   "mimetype": "text/x-python",
   "name": "python",
   "nbconvert_exporter": "python",
   "pygments_lexer": "ipython3",
   "version": "3.9.7"
  }
 },
 "nbformat": 4,
 "nbformat_minor": 5
}
